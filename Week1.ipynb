{
 "cells": [
  {
   "cell_type": "code",
   "execution_count": 29,
   "id": "3d305ac0-13f2-4b5e-9537-46e401aa53d1",
   "metadata": {},
   "outputs": [
    {
     "name": "stdout",
     "output_type": "stream",
     "text": [
      "  RollNo Name  Gender  Marks1  Marks2  Marks3\n",
      "0      1    A    Male      88      90      78\n",
      "1      2    B  Female      89      38      87\n",
      "2      3    C    Male      90      96      80\n",
      "3      4    D  Female      91      94      76\n",
      "4      5    E    Male      92      92      85\n",
      "5      6    F  Female      92      89      95\n",
      "6      7    G    Male      94      97      79\n",
      "7      8    H  Female      95      91      84\n",
      "8      9    I    Male      96      99      82\n",
      "9     10    J  Female      97      85      89\n"
     ]
    }
   ],
   "source": [
    "import pandas as pd\n",
    "data={'RollNo': ['1','2','3','4','5','6','7','8','9','10'],\n",
    "      'Name': ['A','B','C','D','E','F','G','H','I','J'],\n",
    "'Gender': ['Male','Female','Male','Female','Male','Female','Male','Female','Male','Female'],\n",
    "'Marks1': [88,89,90,91,92,92,94,95,96,97],\n",
    "'Marks2':[90,38,96,94,92,89,97,91,99,85],\n",
    "'Marks3':[78,87,80,76,85,95,79,84,82,89]}\n",
    "df = pd.DataFrame(data)\n",
    "print(df)\n"
   ]
  },
  {
   "cell_type": "code",
   "execution_count": 30,
   "id": "a0c14464-96e2-4e52-8d0f-9b770c83437f",
   "metadata": {},
   "outputs": [
    {
     "name": "stdout",
     "output_type": "stream",
     "text": [
      "  RollNo Name  Gender  Marks1  Marks2  Marks3  TotalMarks\n",
      "0      1    A    Male      88      90      78         256\n",
      "1      2    B  Female      89      38      87         214\n",
      "2      3    C    Male      90      96      80         266\n",
      "3      4    D  Female      91      94      76         261\n",
      "4      5    E    Male      92      92      85         269\n",
      "5      6    F  Female      92      89      95         276\n",
      "6      7    G    Male      94      97      79         270\n",
      "7      8    H  Female      95      91      84         270\n",
      "8      9    I    Male      96      99      82         277\n",
      "9     10    J  Female      97      85      89         271\n"
     ]
    }
   ],
   "source": [
    "df['TotalMarks']=df['Marks1']+df['Marks2']+df['Marks3']\n",
    "print(df)"
   ]
  },
  {
   "cell_type": "code",
   "execution_count": 31,
   "id": "8c51c3a3-8640-4f5b-a849-5902285aaa90",
   "metadata": {},
   "outputs": [
    {
     "name": "stdout",
     "output_type": "stream",
     "text": [
      "88\n"
     ]
    }
   ],
   "source": [
    "Lowest=df['Marks1'].min(axis=0)\n",
    "print(Lowest)"
   ]
  },
  {
   "cell_type": "code",
   "execution_count": 47,
   "id": "19cda0cd-cade-4d53-8f26-a8572ad7dc5f",
   "metadata": {},
   "outputs": [
    {
     "name": "stdout",
     "output_type": "stream",
     "text": [
      "99\n"
     ]
    }
   ],
   "source": [
    "Highest=df['Marks2'].max(axis=0)\n",
    "print(Highest)"
   ]
  },
  {
   "cell_type": "code",
   "execution_count": 49,
   "id": "5141249f-60e3-4811-9be3-85e42bf7726b",
   "metadata": {},
   "outputs": [
    {
     "name": "stdout",
     "output_type": "stream",
     "text": [
      "83.5\n"
     ]
    }
   ],
   "source": [
    "Average=df['Marks3'].mean(axis=0)\n",
    "print(Average)"
   ]
  },
  {
   "cell_type": "code",
   "execution_count": 45,
   "id": "4b5a22a7-211b-4fe1-8992-1e87021ca097",
   "metadata": {},
   "outputs": [
    {
     "name": "stdout",
     "output_type": "stream",
     "text": [
      "0    85.333333\n",
      "1    71.333333\n",
      "2    88.666667\n",
      "3    87.000000\n",
      "4    89.666667\n",
      "5    92.000000\n",
      "6    90.000000\n",
      "7    90.000000\n",
      "8    92.333333\n",
      "9    90.333333\n",
      "Name: Avg, dtype: float64\n",
      "  RollNo Name Gender  Marks1  Marks2  Marks3  TotalMarks        Avg\n",
      "8      9    I   Male      96      99      82         277  92.333333\n"
     ]
    }
   ],
   "source": [
    "df['Avg']=(df['Marks1']+df['Marks2']+df['Marks3'])/3\n",
    "print(df['Avg'])\n",
    "Student=df.loc[df['Avg']==df['Avg'].max(axis=0)]\n",
    "print(Student)\n",
    "\n",
    "\n",
    "         \n"
   ]
  },
  {
   "cell_type": "code",
   "execution_count": 34,
   "id": "eb15af95-8552-49d1-84db-e50b23e5c495",
   "metadata": {},
   "outputs": [
    {
     "name": "stdout",
     "output_type": "stream",
     "text": [
      "  RollNo Name  Gender  Marks1  Marks2  Marks3  TotalMarks\n",
      "1      2    B  Female      89      38      87         214\n"
     ]
    }
   ],
   "source": [
    "Fail=df.loc[df['Marks2']<40]\n",
    "print(Fail)"
   ]
  },
  {
   "cell_type": "code",
   "execution_count": 41,
   "id": "948cfb85-3149-41cb-8a77-0d858dcf90c6",
   "metadata": {},
   "outputs": [
    {
     "name": "stdout",
     "output_type": "stream",
     "text": [
      "          Marks1     Marks2     Marks3  TotalMarks\n",
      "count  10.000000  10.000000  10.000000   10.000000\n",
      "mean   92.400000  87.100000  83.500000  263.000000\n",
      "std     3.025815  17.741665   5.759051   18.336363\n",
      "min    88.000000  38.000000  76.000000  214.000000\n",
      "25%    90.250000  89.250000  79.250000  262.250000\n",
      "50%    92.000000  91.500000  83.000000  269.500000\n",
      "75%    94.750000  95.500000  86.500000  270.750000\n",
      "max    97.000000  99.000000  95.000000  277.000000\n"
     ]
    }
   ],
   "source": [
    "summary=df.describe()\n",
    "print(summary)"
   ]
  },
  {
   "cell_type": "code",
   "execution_count": null,
   "id": "683a7190-de0d-4c6e-ad18-383c5aa5db29",
   "metadata": {},
   "outputs": [],
   "source": []
  }
 ],
 "metadata": {
  "kernelspec": {
   "display_name": "Python 3 (ipykernel)",
   "language": "python",
   "name": "python3"
  },
  "language_info": {
   "codemirror_mode": {
    "name": "ipython",
    "version": 3
   },
   "file_extension": ".py",
   "mimetype": "text/x-python",
   "name": "python",
   "nbconvert_exporter": "python",
   "pygments_lexer": "ipython3",
   "version": "3.11.7"
  }
 },
 "nbformat": 4,
 "nbformat_minor": 5
}
